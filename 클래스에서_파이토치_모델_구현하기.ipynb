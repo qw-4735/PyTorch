{
  "nbformat": 4,
  "nbformat_minor": 0,
  "metadata": {
    "colab": {
      "name": "클래스에서 파이토치 모델 구현하기.ipynb",
      "provenance": [],
      "collapsed_sections": [],
      "authorship_tag": "ABX9TyNt15zpfUXMDnoyKziNTrn6",
      "include_colab_link": true
    },
    "kernelspec": {
      "name": "python3",
      "display_name": "Python 3"
    },
    "language_info": {
      "name": "python"
    }
  },
  "cells": [
    {
      "cell_type": "markdown",
      "metadata": {
        "id": "view-in-github",
        "colab_type": "text"
      },
      "source": [
        "<a href=\"https://colab.research.google.com/github/qw-4735/PyTorch/blob/main/%ED%81%B4%EB%9E%98%EC%8A%A4%EC%97%90%EC%84%9C_%ED%8C%8C%EC%9D%B4%ED%86%A0%EC%B9%98_%EB%AA%A8%EB%8D%B8_%EA%B5%AC%ED%98%84%ED%95%98%EA%B8%B0.ipynb\" target=\"_parent\"><img src=\"https://colab.research.google.com/assets/colab-badge.svg\" alt=\"Open In Colab\"/></a>"
      ]
    },
    {
      "cell_type": "markdown",
      "source": [
        "### nn.Module로 구현하는 선형회귀\n",
        "- 파이토치에서는 선형 회귀 모델이 nn.Linear()라는 함수로, 평균제곱오차가 nn.functional.mse_loss()라는 함수로 구현되어져 있다."
      ],
      "metadata": {
        "id": "3HeNzxTuXQn0"
      }
    },
    {
      "cell_type": "code",
      "source": [
        "import torch.nn as nn\n",
        "model = nn.Linear(input_dim, output_dim)"
      ],
      "metadata": {
        "id": "ltUVqOxzXTik"
      },
      "execution_count": null,
      "outputs": []
    },
    {
      "cell_type": "code",
      "source": [
        "import torch.nn.functional as F\n",
        "cost = F.mse_loss(prediction, y_train)"
      ],
      "metadata": {
        "id": "MXx4i1_VXant"
      },
      "execution_count": null,
      "outputs": []
    },
    {
      "cell_type": "markdown",
      "source": [
        "### 클래스로 파이토치 모델 구현하기\n",
        "- 파이토치는 대부분 모델을 생성할 때 클래스(Class)를 사용"
      ],
      "metadata": {
        "id": "wb1FHuoLYCUa"
      }
    },
    {
      "cell_type": "code",
      "source": [
        "model = nn.Linear(1,1)   # 단순 선형 회귀"
      ],
      "metadata": {
        "id": "ZUm85e9NYN2o"
      },
      "execution_count": null,
      "outputs": []
    },
    {
      "cell_type": "code",
      "source": [
        "class LinearRegressionModel(nn.Module) :   # torch.nn.Module을 상속받는 파이썬 클래스\n",
        "  def __init__(self):    # 모델의 구조와 동작을 정의하는 생성자를 정의 (파이썬에서 객체가 갖는 속성값을 초기화하는 역할로, 객체가 생성될 때 자동으로 호출)\n",
        "    super().__init__()   # super()함수를 부르면 여기서 만든 클래스는 nn.Module 클래스의 속성들을 가지고 초기화 됨\n",
        "    self.linear = nn.Linear(1,1)\n",
        "\n",
        "  def forward(self,x):   # 모델이 학습데이터를 입력받아서 forward 연산을 진행시키는 함수\n",
        "    return self.linear(x)  "
      ],
      "metadata": {
        "id": "OwJqEdWxYbLU"
      },
      "execution_count": null,
      "outputs": []
    },
    {
      "cell_type": "code",
      "source": [
        "model = LinearRegressionModel()"
      ],
      "metadata": {
        "id": "TmKyJQ6kY9Mc"
      },
      "execution_count": null,
      "outputs": []
    },
    {
      "cell_type": "markdown",
      "source": [
        "### 미니 배치와 데이터 로드 (Mini Batch and Data Load)"
      ],
      "metadata": {
        "id": "U-4-Vj43sMl6"
      }
    },
    {
      "cell_type": "markdown",
      "source": [
        "1. Mini Batch and Batch Size\n",
        "- 미니 배치 : 전체 데이터를 더 작은 단위로 나누어서 해당 단위로 학습하는 개념\n",
        "- batch size : 미니 배치의 크기 (배치 크기는 보통 2의 제곱수를 사용)\n",
        "- 에포크(Epoch) : 전체 훈련 데이터가 학습에 한 번 사용된 주기"
      ],
      "metadata": {
        "id": "8w0L9RnjtkgM"
      }
    },
    {
      "cell_type": "markdown",
      "source": [
        "2. 이터레이션 (Iteration)\n",
        "- 이터레이션 : 한 번의 에포크 내에서 이루어지는 매개변수인 가중치 W와 b의 업데이트 횟수\n",
        "ex) 전체 데이터가 2,000일 때 배치 크기를 200으로 한다면 이터레이션의 수는 총 10개"
      ],
      "metadata": {
        "id": "NYaEjZeltqsC"
      }
    },
    {
      "cell_type": "markdown",
      "source": [
        "3. 데이터 로드하기\n",
        "- 파이토치에서는 데이터를 좀 더 쉽게 다룰 수 있도록 유용한 도구로서 데이터셋(Dataset)과 데이터로더(DataLoader)를 제공한다. \n",
        "\n",
        "이를 사용하면 미니 배치 학습, 데이터 셔플(shuffle), 병렬 처리까지 간단히 수행할 수 있다. \n",
        "\n",
        "기본적인 사용 방법은 Dataset을 정의하고, 이를 DataLoader에 전달하는 것."
      ],
      "metadata": {
        "id": "iFHeVXoVuJ3U"
      }
    },
    {
      "cell_type": "code",
      "source": [
        "import torch\n",
        "import torch.nn as nn\n",
        "import torch.nn.functional as F\n"
      ],
      "metadata": {
        "id": "R5mj7SvYtgbe"
      },
      "execution_count": 3,
      "outputs": []
    },
    {
      "cell_type": "code",
      "source": [
        "from torch.utils.data import TensorDataset\n",
        "from torch.utils.data import DataLoader"
      ],
      "metadata": {
        "id": "p7ocrWuau_mI"
      },
      "execution_count": 4,
      "outputs": []
    },
    {
      "cell_type": "code",
      "source": [
        "x_train  =  torch.FloatTensor([[73,  80,  75], \n",
        "                               [93,  88,  93], \n",
        "                               [89,  91,  90], \n",
        "                               [96,  98,  100],   \n",
        "                               [73,  66,  70]])  \n",
        "y_train  =  torch.FloatTensor([[152],  [185],  [180],  [196],  [142]])"
      ],
      "metadata": {
        "id": "ohdNM5uyvIcp"
      },
      "execution_count": 5,
      "outputs": []
    },
    {
      "cell_type": "code",
      "source": [
        "dataset = TensorDataset(x_train, y_train)"
      ],
      "metadata": {
        "id": "PE1NEdHTvRTg"
      },
      "execution_count": 6,
      "outputs": []
    },
    {
      "cell_type": "code",
      "source": [
        "dataloader = DataLoader(dataset, batch_size=2, shuffle = True)  # DataLoader(데이터셋, 미니배치의 크기) \n",
        "# shuffle=True : epoch마다 데이터셋을 섞어 데이터가 학습되는 순서를 바꿈"
      ],
      "metadata": {
        "id": "kvn9lz1HvRij"
      },
      "execution_count": 8,
      "outputs": []
    },
    {
      "cell_type": "code",
      "source": [
        "# 모델과 옵티마이저 설계\n",
        "model = nn.Linear(3,1)\n",
        "optimizer = torch.optim.SGD(model.parameters(), lr=1e-5)"
      ],
      "metadata": {
        "id": "0TujuyJ8vvQr"
      },
      "execution_count": 10,
      "outputs": []
    },
    {
      "cell_type": "code",
      "source": [
        "nb_epochs = 20\n",
        "for epoch in range(nb_epochs + 1):\n",
        "  for batch_idx, samples  in enumerate(dataloader):\n",
        "    x_train, y_train = samples\n",
        "    prediction = model(x_train)\n",
        "    cost = F.mse_loss(prediction, y_train)\n",
        "    optimizer.zero_grad()\n",
        "    cost.backward()\n",
        "    optimizer.step()\n",
        "\n",
        "    print('Epoch {:4d}/{} Batch {}/{} Cost: {:.6f}'.format(\n",
        "        epoch, nb_epochs, batch_idx+1, len(dataloader),\n",
        "        cost.item()\n",
        "        ))"
      ],
      "metadata": {
        "colab": {
          "base_uri": "https://localhost:8080/"
        },
        "id": "m25AYblzwVTz",
        "outputId": "bc2181b9-5b19-4c0a-ea14-e72b33cb2504"
      },
      "execution_count": 11,
      "outputs": [
        {
          "output_type": "stream",
          "name": "stdout",
          "text": [
            "Epoch    0/20 Batch 1/3 Cost: 40856.156250\n",
            "Epoch    0/20 Batch 2/3 Cost: 13911.839844\n",
            "Epoch    0/20 Batch 3/3 Cost: 4780.193848\n",
            "Epoch    1/20 Batch 1/3 Cost: 1408.240234\n",
            "Epoch    1/20 Batch 2/3 Cost: 320.917358\n",
            "Epoch    1/20 Batch 3/3 Cost: 45.990734\n",
            "Epoch    2/20 Batch 1/3 Cost: 62.987236\n",
            "Epoch    2/20 Batch 2/3 Cost: 20.992451\n",
            "Epoch    2/20 Batch 3/3 Cost: 1.042558\n",
            "Epoch    3/20 Batch 1/3 Cost: 12.427022\n",
            "Epoch    3/20 Batch 2/3 Cost: 4.798541\n",
            "Epoch    3/20 Batch 3/3 Cost: 2.606469\n",
            "Epoch    4/20 Batch 1/3 Cost: 10.151554\n",
            "Epoch    4/20 Batch 2/3 Cost: 4.474984\n",
            "Epoch    4/20 Batch 3/3 Cost: 1.023451\n",
            "Epoch    5/20 Batch 1/3 Cost: 4.103814\n",
            "Epoch    5/20 Batch 2/3 Cost: 8.454391\n",
            "Epoch    5/20 Batch 3/3 Cost: 5.175667\n",
            "Epoch    6/20 Batch 1/3 Cost: 4.909663\n",
            "Epoch    6/20 Batch 2/3 Cost: 8.668618\n",
            "Epoch    6/20 Batch 3/3 Cost: 4.662255\n",
            "Epoch    7/20 Batch 1/3 Cost: 9.739295\n",
            "Epoch    7/20 Batch 2/3 Cost: 2.972342\n",
            "Epoch    7/20 Batch 3/3 Cost: 10.194913\n",
            "Epoch    8/20 Batch 1/3 Cost: 6.068103\n",
            "Epoch    8/20 Batch 2/3 Cost: 4.002255\n",
            "Epoch    8/20 Batch 3/3 Cost: 13.551220\n",
            "Epoch    9/20 Batch 1/3 Cost: 6.494287\n",
            "Epoch    9/20 Batch 2/3 Cost: 5.927770\n",
            "Epoch    9/20 Batch 3/3 Cost: 5.367647\n",
            "Epoch   10/20 Batch 1/3 Cost: 8.969276\n",
            "Epoch   10/20 Batch 2/3 Cost: 3.062283\n",
            "Epoch   10/20 Batch 3/3 Cost: 4.085782\n",
            "Epoch   11/20 Batch 1/3 Cost: 8.571369\n",
            "Epoch   11/20 Batch 2/3 Cost: 4.304942\n",
            "Epoch   11/20 Batch 3/3 Cost: 3.416428\n",
            "Epoch   12/20 Batch 1/3 Cost: 4.948670\n",
            "Epoch   12/20 Batch 2/3 Cost: 1.827315\n",
            "Epoch   12/20 Batch 3/3 Cost: 18.943401\n",
            "Epoch   13/20 Batch 1/3 Cost: 5.786380\n",
            "Epoch   13/20 Batch 2/3 Cost: 9.049944\n",
            "Epoch   13/20 Batch 3/3 Cost: 5.366021\n",
            "Epoch   14/20 Batch 1/3 Cost: 5.318552\n",
            "Epoch   14/20 Batch 2/3 Cost: 1.544770\n",
            "Epoch   14/20 Batch 3/3 Cost: 19.229382\n",
            "Epoch   15/20 Batch 1/3 Cost: 5.335260\n",
            "Epoch   15/20 Batch 2/3 Cost: 9.002057\n",
            "Epoch   15/20 Batch 3/3 Cost: 4.738208\n",
            "Epoch   16/20 Batch 1/3 Cost: 6.361921\n",
            "Epoch   16/20 Batch 2/3 Cost: 5.459440\n",
            "Epoch   16/20 Batch 3/3 Cost: 4.960299\n",
            "Epoch   17/20 Batch 1/3 Cost: 1.410989\n",
            "Epoch   17/20 Batch 2/3 Cost: 14.680458\n",
            "Epoch   17/20 Batch 3/3 Cost: 5.397809\n",
            "Epoch   18/20 Batch 1/3 Cost: 4.409617\n",
            "Epoch   18/20 Batch 2/3 Cost: 1.899868\n",
            "Epoch   18/20 Batch 3/3 Cost: 17.554075\n",
            "Epoch   19/20 Batch 1/3 Cost: 7.335705\n",
            "Epoch   19/20 Batch 2/3 Cost: 8.077694\n",
            "Epoch   19/20 Batch 3/3 Cost: 4.048609\n",
            "Epoch   20/20 Batch 1/3 Cost: 8.887733\n",
            "Epoch   20/20 Batch 2/3 Cost: 4.927543\n",
            "Epoch   20/20 Batch 3/3 Cost: 5.434598\n"
          ]
        }
      ]
    },
    {
      "cell_type": "code",
      "source": [
        "# 임의의 값을 넣어 예측값 확인\n",
        "new_var = torch.FloatTensor([[73, 80,75]])\n",
        "pred_y = model(new_var)  # 입력 값에 대한 예측값을 리턴받어 pred_y에 저장\n",
        "print(\"훈련 후 입력이 73,80,75 일 때의 예측값 :\", pred_y)"
      ],
      "metadata": {
        "colab": {
          "base_uri": "https://localhost:8080/"
        },
        "id": "zAbhSmURxseF",
        "outputId": "ef2903ad-a0df-483a-ee33-891aadad5acf"
      },
      "execution_count": 13,
      "outputs": [
        {
          "output_type": "stream",
          "name": "stdout",
          "text": [
            "훈련 후 입력이 73,80,75 일 때의 예측값 : tensor([[154.6161]], grad_fn=<AddmmBackward0>)\n"
          ]
        }
      ]
    }
  ]
}