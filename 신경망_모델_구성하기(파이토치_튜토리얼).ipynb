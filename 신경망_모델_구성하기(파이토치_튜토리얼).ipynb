{
  "nbformat": 4,
  "nbformat_minor": 0,
  "metadata": {
    "colab": {
      "name": "신경망 모델 구성하기(파이토치 튜토리얼).ipynb",
      "provenance": [],
      "collapsed_sections": [],
      "authorship_tag": "ABX9TyPcQ6KONs4IXGD2wU7wa9B1",
      "include_colab_link": true
    },
    "kernelspec": {
      "name": "python3",
      "display_name": "Python 3"
    },
    "language_info": {
      "name": "python"
    }
  },
  "cells": [
    {
      "cell_type": "markdown",
      "metadata": {
        "id": "view-in-github",
        "colab_type": "text"
      },
      "source": [
        "<a href=\"https://colab.research.google.com/github/qw-4735/PyTorch/blob/main/%EC%8B%A0%EA%B2%BD%EB%A7%9D_%EB%AA%A8%EB%8D%B8_%EA%B5%AC%EC%84%B1%ED%95%98%EA%B8%B0(%ED%8C%8C%EC%9D%B4%ED%86%A0%EC%B9%98_%ED%8A%9C%ED%86%A0%EB%A6%AC%EC%96%BC).ipynb\" target=\"_parent\"><img src=\"https://colab.research.google.com/assets/colab-badge.svg\" alt=\"Open In Colab\"/></a>"
      ]
    },
    {
      "cell_type": "code",
      "execution_count": 2,
      "metadata": {
        "id": "L4jtbxBgBw7S"
      },
      "outputs": [],
      "source": [
        "import os\n",
        "import torch\n",
        "from torch import nn\n",
        "from torch.utils.data import DataLoader\n",
        "from torchvision import datasets, transforms"
      ]
    },
    {
      "cell_type": "code",
      "source": [
        "device = \"cuda\" if torch.cuda.is_available() else \"cpu\"\n",
        "print(f\"Using {device} device\")"
      ],
      "metadata": {
        "colab": {
          "base_uri": "https://localhost:8080/"
        },
        "id": "Tak9PCGOCeCE",
        "outputId": "d9c4fb1c-9c68-4e8e-8b97-7639711d3b3e"
      },
      "execution_count": 3,
      "outputs": [
        {
          "output_type": "stream",
          "name": "stdout",
          "text": [
            "Using cpu device\n"
          ]
        }
      ]
    },
    {
      "cell_type": "markdown",
      "source": [
        "### 클래스 정의하기\n",
        "\n",
        "신경망 모델을 nn.Module의 하위클래스로 정의하고, __init__ 에서 신경망 계층들을 초기화\n",
        "\n",
        "nn.Module을 상속받은 모든 클래스는 forward 메소드에 입력 데이터에 대한 연산들을 구현"
      ],
      "metadata": {
        "id": "Nheq7gpyGUGj"
      }
    },
    {
      "cell_type": "code",
      "source": [
        "class NeuralNetwork(nn.Module):\n",
        "  def __init__(self):\n",
        "    super(NeuralNetwork, self).__init__()\n",
        "    self.flatten = nn.Flatten()\n",
        "    self.linear_relu_Stack = nn.Sequential(\n",
        "        nn.Linear(28*28 , 512),\n",
        "        nn.ReLU(),\n",
        "        nn.Linear(512,512),\n",
        "        nn.ReLU(),\n",
        "        nn.Linear(512,10)\n",
        "    )\n",
        "  def forward(self, x):\n",
        "    x = self.flatten(x)\n",
        "    logits = self.linear_relu_Stack(x)\n",
        "    return logits    "
      ],
      "metadata": {
        "id": "_7ORmMgkDXNV"
      },
      "execution_count": 7,
      "outputs": []
    },
    {
      "cell_type": "code",
      "source": [
        "model = NeuralNetwork().to(device)   # NeuralNetwork의 인스턴스를 생성하고 이를 device로 이동한 뒤, structure를 출력\n",
        "print(model)   "
      ],
      "metadata": {
        "colab": {
          "base_uri": "https://localhost:8080/"
        },
        "id": "ClfPXrFQE_zL",
        "outputId": "14740d55-b415-459c-c3a6-696b5cf801b4"
      },
      "execution_count": 8,
      "outputs": [
        {
          "output_type": "stream",
          "name": "stdout",
          "text": [
            "NeuralNetwork(\n",
            "  (flatten): Flatten(start_dim=1, end_dim=-1)\n",
            "  (linear_relu_Stack): Sequential(\n",
            "    (0): Linear(in_features=784, out_features=512, bias=True)\n",
            "    (1): ReLU()\n",
            "    (2): Linear(in_features=512, out_features=512, bias=True)\n",
            "    (3): ReLU()\n",
            "    (4): Linear(in_features=512, out_features=10, bias=True)\n",
            "  )\n",
            ")\n"
          ]
        }
      ]
    },
    {
      "cell_type": "code",
      "source": [
        "X = torch.rand(1,28,28, device =device)\n",
        "logits = model(X)\n",
        "pred_probab = nn.Softmax(dim=1)(logits)\n",
        "y_pred = pred_probab.argmax(1)"
      ],
      "metadata": {
        "id": "8_tIrTPhFQ7y"
      },
      "execution_count": 9,
      "outputs": []
    },
    {
      "cell_type": "markdown",
      "source": [
        "### 모델 계층 (Layer)"
      ],
      "metadata": {
        "id": "YYPC6QBzG5zT"
      }
    },
    {
      "cell_type": "code",
      "source": [
        "input_image = torch.rand(3,28,28)\n",
        "print(input_image.size())"
      ],
      "metadata": {
        "colab": {
          "base_uri": "https://localhost:8080/"
        },
        "id": "58tQ6YIzF7rK",
        "outputId": "725d7795-82aa-4852-932f-2d533e0dd9d2"
      },
      "execution_count": 10,
      "outputs": [
        {
          "output_type": "stream",
          "name": "stdout",
          "text": [
            "torch.Size([3, 28, 28])\n"
          ]
        }
      ]
    },
    {
      "cell_type": "markdown",
      "source": [
        "#### nn.Flatten\n",
        "- nn.Flatten : 계층을 초기화하여 각 28x28의 2D 이미지를 784 픽셀 값을 갖는 연속된 배열로 변환"
      ],
      "metadata": {
        "id": "tCLFUKmjHM9G"
      }
    },
    {
      "cell_type": "code",
      "source": [
        "flatten = nn.Flatten()\n",
        "flat_image = flatten(input_image)\n",
        "print(flat_image.size())"
      ],
      "metadata": {
        "colab": {
          "base_uri": "https://localhost:8080/"
        },
        "id": "UJbASks-HCpP",
        "outputId": "711ab0d4-134b-4cf2-9de3-7be0ad0e97bf"
      },
      "execution_count": 11,
      "outputs": [
        {
          "output_type": "stream",
          "name": "stdout",
          "text": [
            "torch.Size([3, 784])\n"
          ]
        }
      ]
    },
    {
      "cell_type": "markdown",
      "source": [
        "#### nn.Linear\n",
        "- 선형계층은 저장된 가중치와 편향을 사용하여, 입력에 선형 변환을 적용하는 모듈"
      ],
      "metadata": {
        "id": "1sNUwKw2Hm9m"
      }
    },
    {
      "cell_type": "code",
      "source": [
        "layer1 = nn.Linear(in_features =28*28, out_features = 20)\n",
        "hidden1 = layer1(flat_image)\n",
        "print(hidden1.size())"
      ],
      "metadata": {
        "colab": {
          "base_uri": "https://localhost:8080/"
        },
        "id": "q5iL1HgBHkfA",
        "outputId": "dc405e25-8db7-49b5-a16d-727a0af68919"
      },
      "execution_count": 12,
      "outputs": [
        {
          "output_type": "stream",
          "name": "stdout",
          "text": [
            "torch.Size([3, 20])\n"
          ]
        }
      ]
    },
    {
      "cell_type": "markdown",
      "source": [
        "#### nn.ReLU\n",
        "- 비선형 활성화는 선형 변환 후에 적용되어 비선형성을 도입하고, 신경망이 다양한 현상을 학습할 수 있도록 돕는다."
      ],
      "metadata": {
        "id": "YdESTCFAIII6"
      }
    },
    {
      "cell_type": "code",
      "source": [
        "print(f\"Before ReLU: {hidden1}\\n\\n\")\n",
        "hidden1 = nn.ReLU()(hidden1)\n",
        "print(f\"After ReLU: {hidden1}\")"
      ],
      "metadata": {
        "colab": {
          "base_uri": "https://localhost:8080/"
        },
        "id": "akBWSjFNICYO",
        "outputId": "243c47eb-0ed8-4d56-9daf-512924d8dd82"
      },
      "execution_count": 13,
      "outputs": [
        {
          "output_type": "stream",
          "name": "stdout",
          "text": [
            "Before ReLU: tensor([[-0.4192,  0.0787,  0.3141,  0.1675,  0.0449, -0.3343, -0.5247, -0.0913,\n",
            "         -0.4430, -0.0020,  0.0027, -0.2033,  0.2395, -0.2058, -0.5908, -0.5233,\n",
            "         -0.2646, -0.2044, -0.9807,  0.0985],\n",
            "        [-0.5398,  0.3363,  0.2980,  0.2563,  0.0646, -0.0260, -0.4060,  0.3462,\n",
            "         -0.4480, -0.0831, -0.0854, -0.3456,  0.6677, -0.1571, -0.0969, -0.4367,\n",
            "         -0.2583,  0.1933, -1.0184,  0.0256],\n",
            "        [-0.4910, -0.3392,  0.4846,  0.2154,  0.2794, -0.2808, -0.4195,  0.1362,\n",
            "         -0.6011, -0.0779, -0.0308, -0.1356,  0.2796, -0.2558,  0.0014, -0.3653,\n",
            "         -0.6978, -0.2330, -1.2220, -0.8632]], grad_fn=<AddmmBackward0>)\n",
            "\n",
            "\n",
            "After ReLU: tensor([[0.0000, 0.0787, 0.3141, 0.1675, 0.0449, 0.0000, 0.0000, 0.0000, 0.0000,\n",
            "         0.0000, 0.0027, 0.0000, 0.2395, 0.0000, 0.0000, 0.0000, 0.0000, 0.0000,\n",
            "         0.0000, 0.0985],\n",
            "        [0.0000, 0.3363, 0.2980, 0.2563, 0.0646, 0.0000, 0.0000, 0.3462, 0.0000,\n",
            "         0.0000, 0.0000, 0.0000, 0.6677, 0.0000, 0.0000, 0.0000, 0.0000, 0.1933,\n",
            "         0.0000, 0.0256],\n",
            "        [0.0000, 0.0000, 0.4846, 0.2154, 0.2794, 0.0000, 0.0000, 0.1362, 0.0000,\n",
            "         0.0000, 0.0000, 0.0000, 0.2796, 0.0000, 0.0014, 0.0000, 0.0000, 0.0000,\n",
            "         0.0000, 0.0000]], grad_fn=<ReluBackward0>)\n"
          ]
        }
      ]
    },
    {
      "cell_type": "markdown",
      "source": [
        "#### nn.Sequential\n",
        "- nn.Sequential : 순서를 갖는 모듈의 컨테이너"
      ],
      "metadata": {
        "id": "9n55VxMbI0_C"
      }
    },
    {
      "cell_type": "code",
      "source": [
        "seq_modules = nn.Sequential(flatten, layer1, nn.ReLU(), nn.Linear(20,10))\n",
        "input_image = torch.rand(3,28,28)\n",
        "logits = seq_modules(input_image)"
      ],
      "metadata": {
        "id": "9QcCM9B2Iu7I"
      },
      "execution_count": 14,
      "outputs": []
    },
    {
      "cell_type": "markdown",
      "source": [
        "#### nn,Softmax\n",
        "- 신경망의 마지막 선형 계층은 nn.Softmax 모듈에 전달될 [-infty, infty] 범위의 raw 값인 logits을 반환한다. logits는 모델의 각 class에대한 예측 확률을 나타내도록 [0,1] 범위로 비례하여 조정(scale)\n"
      ],
      "metadata": {
        "id": "yD-qBc-nJdB8"
      }
    },
    {
      "cell_type": "code",
      "source": [
        "softmax = nn.Softmax(dim=1)   # dim=1 : 값의 합이 1이 되는 차원\n",
        "pred_probab = softmax(logits)"
      ],
      "metadata": {
        "id": "QrYpnRGjJWL7"
      },
      "execution_count": 15,
      "outputs": []
    }
  ]
}