{
  "nbformat": 4,
  "nbformat_minor": 0,
  "metadata": {
    "colab": {
      "name": "커스텀 데이터셋(Custom Dataset).ipynb",
      "provenance": [],
      "collapsed_sections": [],
      "authorship_tag": "ABX9TyPBgLzQMjN2Q9f9DIve/an6",
      "include_colab_link": true
    },
    "kernelspec": {
      "name": "python3",
      "display_name": "Python 3"
    },
    "language_info": {
      "name": "python"
    }
  },
  "cells": [
    {
      "cell_type": "markdown",
      "metadata": {
        "id": "view-in-github",
        "colab_type": "text"
      },
      "source": [
        "<a href=\"https://colab.research.google.com/github/qw-4735/PyTorch/blob/main/%EC%BB%A4%EC%8A%A4%ED%85%80_%EB%8D%B0%EC%9D%B4%ED%84%B0%EC%85%8B(Custom_Dataset).ipynb\" target=\"_parent\"><img src=\"https://colab.research.google.com/assets/colab-badge.svg\" alt=\"Open In Colab\"/></a>"
      ]
    },
    {
      "cell_type": "markdown",
      "source": [
        "1. 커스텀 데이터셋(Custom Dataset)"
      ],
      "metadata": {
        "id": "wI5XpXClzOTC"
      }
    },
    {
      "cell_type": "code",
      "source": [
        "class CustomDataset(torch.utils.data.Dataset):\n",
        "  def __init__(self):\n",
        "  데이터셋의 전처리를 해주는 부분\n",
        "\n",
        "  def __len__(self):\n",
        "  데이터셋의 길이. 즉, 총 샘플의 수를 적어주는 부분\n",
        "  \n",
        "  def __getitem__(self, idx):\n",
        "  데이터셋에서 특정 1개의 샘플을 가져오는 함수"
      ],
      "metadata": {
        "id": "HSlyAoVn0aSS"
      },
      "execution_count": null,
      "outputs": []
    },
    {
      "cell_type": "markdown",
      "source": [
        "2. 커스텀 데이터셋(Custom Dataset)으로 선형 회귀 구현하기"
      ],
      "metadata": {
        "id": "GQB_uvjx1FGJ"
      }
    },
    {
      "cell_type": "code",
      "source": [
        "import torch\n",
        "import torch.nn.functional as F"
      ],
      "metadata": {
        "id": "xvArtJtO1J7o"
      },
      "execution_count": 1,
      "outputs": []
    },
    {
      "cell_type": "code",
      "source": [
        "from torch.utils.data import Dataset\n",
        "from torch.utils.data import DataLoader"
      ],
      "metadata": {
        "id": "tmbVyfYQ1NUZ"
      },
      "execution_count": 2,
      "outputs": []
    },
    {
      "cell_type": "code",
      "source": [
        "class CustomDataset(Dataset):\n",
        "  def __init__(self):\n",
        "    self.x_data = [[73, 80, 75],\n",
        "                   [93, 88, 93],\n",
        "                   [89, 91, 90],\n",
        "                   [96, 98, 100],\n",
        "                   [73, 66, 70]]\n",
        "    self.y_data = [[152], [185], [180], [196], [142]]\n",
        "\n",
        "  def __len__(self):    # 총 데이터의 개수를 리턴\n",
        "    return len(self.x_data)\n",
        "\n",
        "  def __getitem__(self, idx):   # 인덱스를 입력받아 그에 맵핑되는 입출력 데이터를 파이토치의 Tensor 형태로 리턴\n",
        "    x = torch.FloatTensor(self.x_data[idx])\n",
        "    y = torch.FloatTensor(self.y_data[idx])\n",
        "    return x,y"
      ],
      "metadata": {
        "id": "wms0v4pz1UV1"
      },
      "execution_count": 3,
      "outputs": []
    },
    {
      "cell_type": "code",
      "source": [
        "dataset = CustomDataset()\n",
        "dataloader = DataLoader(dataset, batch_size=2, shuffle=True)"
      ],
      "metadata": {
        "id": "YD8mvael2fdX"
      },
      "execution_count": 4,
      "outputs": []
    },
    {
      "cell_type": "code",
      "source": [
        "model = torch.nn.Linear(3,1)\n",
        "optimizer = torch.optim.SGD(model.parameters(), lr=1e-5)"
      ],
      "metadata": {
        "id": "kf9n25JB2tMX"
      },
      "execution_count": 5,
      "outputs": []
    },
    {
      "cell_type": "code",
      "source": [
        "nb_epochs = 20\n",
        "for epoch in range(nb_epochs + 1):\n",
        "  for batch_idx, samples  in enumerate(dataloader):\n",
        "    x_train, y_train = samples\n",
        "    prediction = model(x_train)\n",
        "    cost = F.mse_loss(prediction, y_train)\n",
        "    optimizer.zero_grad()\n",
        "    cost.backward()\n",
        "    optimizer.step()\n",
        "\n",
        "    print('Epoch {:4d}/{} Batch {}/{} Cost: {:.6f}'.format(\n",
        "        epoch, nb_epochs, batch_idx+1, len(dataloader),\n",
        "        cost.item()\n",
        "        ))"
      ],
      "metadata": {
        "colab": {
          "base_uri": "https://localhost:8080/"
        },
        "id": "Ted4WBC329aI",
        "outputId": "7ca7a8f0-8896-48d4-ca8b-75e4177848b8"
      },
      "execution_count": 6,
      "outputs": [
        {
          "output_type": "stream",
          "name": "stdout",
          "text": [
            "Epoch    0/20 Batch 1/3 Cost: 20221.769531\n",
            "Epoch    0/20 Batch 2/3 Cost: 6256.099609\n",
            "Epoch    0/20 Batch 3/3 Cost: 3176.520264\n",
            "Epoch    1/20 Batch 1/3 Cost: 586.163269\n",
            "Epoch    1/20 Batch 2/3 Cost: 85.678795\n",
            "Epoch    1/20 Batch 3/3 Cost: 86.252953\n",
            "Epoch    2/20 Batch 1/3 Cost: 2.464187\n",
            "Epoch    2/20 Batch 2/3 Cost: 35.241093\n",
            "Epoch    2/20 Batch 3/3 Cost: 1.038386\n",
            "Epoch    3/20 Batch 1/3 Cost: 17.103062\n",
            "Epoch    3/20 Batch 2/3 Cost: 7.892411\n",
            "Epoch    3/20 Batch 3/3 Cost: 1.055592\n",
            "Epoch    4/20 Batch 1/3 Cost: 10.302263\n",
            "Epoch    4/20 Batch 2/3 Cost: 3.645893\n",
            "Epoch    4/20 Batch 3/3 Cost: 14.097312\n",
            "Epoch    5/20 Batch 1/3 Cost: 7.228433\n",
            "Epoch    5/20 Batch 2/3 Cost: 7.527371\n",
            "Epoch    5/20 Batch 3/3 Cost: 5.222079\n",
            "Epoch    6/20 Batch 1/3 Cost: 2.891492\n",
            "Epoch    6/20 Batch 2/3 Cost: 18.460903\n",
            "Epoch    6/20 Batch 3/3 Cost: 4.933556\n",
            "Epoch    7/20 Batch 1/3 Cost: 2.816716\n",
            "Epoch    7/20 Batch 2/3 Cost: 10.932993\n",
            "Epoch    7/20 Batch 3/3 Cost: 9.417077\n",
            "Epoch    8/20 Batch 1/3 Cost: 7.870905\n",
            "Epoch    8/20 Batch 2/3 Cost: 4.394528\n",
            "Epoch    8/20 Batch 3/3 Cost: 10.773512\n",
            "Epoch    9/20 Batch 1/3 Cost: 9.103825\n",
            "Epoch    9/20 Batch 2/3 Cost: 4.688464\n",
            "Epoch    9/20 Batch 3/3 Cost: 8.219276\n",
            "Epoch   10/20 Batch 1/3 Cost: 1.922965\n",
            "Epoch   10/20 Batch 2/3 Cost: 8.429485\n",
            "Epoch   10/20 Batch 3/3 Cost: 16.256390\n",
            "Epoch   11/20 Batch 1/3 Cost: 7.115277\n",
            "Epoch   11/20 Batch 2/3 Cost: 7.152325\n",
            "Epoch   11/20 Batch 3/3 Cost: 13.932568\n",
            "Epoch   12/20 Batch 1/3 Cost: 11.776878\n",
            "Epoch   12/20 Batch 2/3 Cost: 4.905469\n",
            "Epoch   12/20 Batch 3/3 Cost: 12.675538\n",
            "Epoch   13/20 Batch 1/3 Cost: 3.781974\n",
            "Epoch   13/20 Batch 2/3 Cost: 18.359642\n",
            "Epoch   13/20 Batch 3/3 Cost: 3.111561\n",
            "Epoch   14/20 Batch 1/3 Cost: 0.821220\n",
            "Epoch   14/20 Batch 2/3 Cost: 16.992001\n",
            "Epoch   14/20 Batch 3/3 Cost: 10.428733\n",
            "Epoch   15/20 Batch 1/3 Cost: 9.060303\n",
            "Epoch   15/20 Batch 2/3 Cost: 6.943748\n",
            "Epoch   15/20 Batch 3/3 Cost: 2.457263\n",
            "Epoch   16/20 Batch 1/3 Cost: 0.641882\n",
            "Epoch   16/20 Batch 2/3 Cost: 17.281181\n",
            "Epoch   16/20 Batch 3/3 Cost: 10.226704\n",
            "Epoch   17/20 Batch 1/3 Cost: 7.522013\n",
            "Epoch   17/20 Batch 2/3 Cost: 8.329203\n",
            "Epoch   17/20 Batch 3/3 Cost: 2.664383\n",
            "Epoch   18/20 Batch 1/3 Cost: 10.902416\n",
            "Epoch   18/20 Batch 2/3 Cost: 4.982408\n",
            "Epoch   18/20 Batch 3/3 Cost: 2.872326\n",
            "Epoch   19/20 Batch 1/3 Cost: 2.219517\n",
            "Epoch   19/20 Batch 2/3 Cost: 11.131378\n",
            "Epoch   19/20 Batch 3/3 Cost: 9.652278\n",
            "Epoch   20/20 Batch 1/3 Cost: 10.229008\n",
            "Epoch   20/20 Batch 2/3 Cost: 4.616398\n",
            "Epoch   20/20 Batch 3/3 Cost: 4.543228\n"
          ]
        }
      ]
    },
    {
      "cell_type": "code",
      "source": [
        "# 임의의 값을 넣어 예측값 확인\n",
        "new_var = torch.FloatTensor([[73, 80,75]])\n",
        "pred_y = model(new_var)  # 입력 값에 대한 예측값을 리턴받어 pred_y에 저장\n",
        "print(\"훈련 후 입력이 73,80,75 일 때의 예측값 :\", pred_y)"
      ],
      "metadata": {
        "colab": {
          "base_uri": "https://localhost:8080/"
        },
        "id": "0fqNd2uh2-Rk",
        "outputId": "b049c1c9-55b4-49bc-fca7-2d0df3013683"
      },
      "execution_count": 7,
      "outputs": [
        {
          "output_type": "stream",
          "name": "stdout",
          "text": [
            "훈련 후 입력이 73,80,75 일 때의 예측값 : tensor([[154.2778]], grad_fn=<AddmmBackward0>)\n"
          ]
        }
      ]
    }
  ]
}