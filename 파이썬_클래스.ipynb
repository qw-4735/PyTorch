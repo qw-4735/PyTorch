{
  "nbformat": 4,
  "nbformat_minor": 0,
  "metadata": {
    "colab": {
      "name": "파이썬 클래스.ipynb",
      "provenance": [],
      "collapsed_sections": [],
      "authorship_tag": "ABX9TyNvZuMNt/ebnC+AvrsYSctz",
      "include_colab_link": true
    },
    "kernelspec": {
      "name": "python3",
      "display_name": "Python 3"
    },
    "language_info": {
      "name": "python"
    }
  },
  "cells": [
    {
      "cell_type": "markdown",
      "metadata": {
        "id": "view-in-github",
        "colab_type": "text"
      },
      "source": [
        "<a href=\"https://colab.research.google.com/github/qw-4735/PyTorch/blob/main/%ED%8C%8C%EC%9D%B4%EC%8D%AC_%ED%81%B4%EB%9E%98%EC%8A%A4.ipynb\" target=\"_parent\"><img src=\"https://colab.research.google.com/assets/colab-badge.svg\" alt=\"Open In Colab\"/></a>"
      ]
    },
    {
      "cell_type": "markdown",
      "source": [
        "함수(function)과 클래스(Class)의 차이"
      ],
      "metadata": {
        "id": "t3jMJY7mQ0vz"
      }
    },
    {
      "cell_type": "markdown",
      "source": [
        "1. 함수(function)로 덧셈기 구현하기"
      ],
      "metadata": {
        "id": "L0G8CLFRRDyH"
      }
    },
    {
      "cell_type": "code",
      "source": [
        "result=0"
      ],
      "metadata": {
        "id": "4o0YTWEjRArE"
      },
      "execution_count": null,
      "outputs": []
    },
    {
      "cell_type": "code",
      "source": [
        "def add(num):\n",
        "  global result\n",
        "  result += num\n",
        "  return result"
      ],
      "metadata": {
        "id": "bBOVFgiRRqSV"
      },
      "execution_count": null,
      "outputs": []
    },
    {
      "cell_type": "code",
      "source": [
        "print(add(3))\n",
        "print(add(4))"
      ],
      "metadata": {
        "colab": {
          "base_uri": "https://localhost:8080/"
        },
        "id": "Rv8id-FoRqVc",
        "outputId": "8354f8c6-47dd-4724-f18c-0af64cefe255"
      },
      "execution_count": null,
      "outputs": [
        {
          "output_type": "stream",
          "name": "stdout",
          "text": [
            "3\n",
            "7\n"
          ]
        }
      ]
    },
    {
      "cell_type": "markdown",
      "source": [
        "2. 함수(function)로 두 개의 덧셈기 구현하기"
      ],
      "metadata": {
        "id": "oC_r740NR_Iv"
      }
    },
    {
      "cell_type": "code",
      "source": [
        "result1 = 0\n",
        "result2 = 0\n",
        "\n",
        "def add1(num):\n",
        "    global result1\n",
        "    result1 += num\n",
        "    return result1\n",
        "\n",
        "def add2(num):\n",
        "    global result2\n",
        "    result2 += num\n",
        "    return result2\n",
        "\n",
        "print(add1(3))\n",
        "print(add1(4))\n",
        "print(add2(3))\n",
        "print(add2(7))\n"
      ],
      "metadata": {
        "colab": {
          "base_uri": "https://localhost:8080/"
        },
        "id": "4__2Zcc4RqYr",
        "outputId": "94bcf04a-d3f1-41bc-8b37-48c62b7b9d09"
      },
      "execution_count": null,
      "outputs": [
        {
          "output_type": "stream",
          "name": "stdout",
          "text": [
            "3\n",
            "7\n",
            "3\n",
            "10\n"
          ]
        }
      ]
    },
    {
      "cell_type": "markdown",
      "source": [
        "3. 클래스(class)로 덧셈기 구현하기"
      ],
      "metadata": {
        "id": "i_owxo7ySSnz"
      }
    },
    {
      "cell_type": "code",
      "source": [
        "class Calculator:\n",
        "  def __init__(self):  # 객체 생성 시 호출될 때 실행되는 초기화 함수.(생성자)\n",
        "    self.result=0\n",
        "\n",
        "  def add(self, num):  # 객체 생성 후 사용할 수 있는 함수\n",
        "    self.result += num\n",
        "    return self.result"
      ],
      "metadata": {
        "id": "44HfRcvYSP08"
      },
      "execution_count": null,
      "outputs": []
    },
    {
      "cell_type": "code",
      "source": [
        "cal1 = Calculator()  # cal1 이라는 객체 생성"
      ],
      "metadata": {
        "id": "1gIcyRG0SQNh"
      },
      "execution_count": null,
      "outputs": []
    },
    {
      "cell_type": "code",
      "source": [
        "cal2 = Calculator()"
      ],
      "metadata": {
        "id": "MyOWEAU-TM_P"
      },
      "execution_count": null,
      "outputs": []
    },
    {
      "cell_type": "code",
      "source": [
        "print(cal1.add(3))\n",
        "print(cal1.add(4))\n",
        "print(cal2.add(3))\n",
        "print(cal2.add(7))"
      ],
      "metadata": {
        "colab": {
          "base_uri": "https://localhost:8080/"
        },
        "id": "Jh8rmjFJTw-A",
        "outputId": "ded68c30-0338-4986-821a-af907eed4875"
      },
      "execution_count": null,
      "outputs": [
        {
          "output_type": "stream",
          "name": "stdout",
          "text": [
            "3\n",
            "7\n",
            "3\n",
            "10\n"
          ]
        }
      ]
    },
    {
      "cell_type": "markdown",
      "source": [
        "클래스라는 것을 하나 선언하고, 이 클래스를 통해 별도의 객체를 생성하면 코드가 훨씬 간결해짐"
      ],
      "metadata": {
        "id": "zNkGN6F7UCaB"
      }
    },
    {
      "cell_type": "code",
      "source": [
        ""
      ],
      "metadata": {
        "id": "nEmw3-dlUVED"
      },
      "execution_count": null,
      "outputs": []
    }
  ]
}