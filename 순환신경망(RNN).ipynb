{
  "nbformat": 4,
  "nbformat_minor": 0,
  "metadata": {
    "colab": {
      "name": "순환신경망(RNN).ipynb",
      "provenance": [],
      "collapsed_sections": [],
      "authorship_tag": "ABX9TyNTIFrnIf3K4rY4S+monX49",
      "include_colab_link": true
    },
    "kernelspec": {
      "name": "python3",
      "display_name": "Python 3"
    },
    "language_info": {
      "name": "python"
    }
  },
  "cells": [
    {
      "cell_type": "markdown",
      "metadata": {
        "id": "view-in-github",
        "colab_type": "text"
      },
      "source": [
        "<a href=\"https://colab.research.google.com/github/qw-4735/PyTorch/blob/main/%EC%88%9C%ED%99%98%EC%8B%A0%EA%B2%BD%EB%A7%9D(RNN).ipynb\" target=\"_parent\"><img src=\"https://colab.research.google.com/assets/colab-badge.svg\" alt=\"Open In Colab\"/></a>"
      ]
    },
    {
      "cell_type": "markdown",
      "source": [
        "### 파이토치의 nn.RNN()\n",
        "- 파이토치에서는 nn.RNN()을 통해서 RNN 셀을 구현"
      ],
      "metadata": {
        "id": "w2-v-juWGSV5"
      }
    },
    {
      "cell_type": "code",
      "execution_count": 1,
      "metadata": {
        "id": "K3qHaIoQ_uIm"
      },
      "outputs": [],
      "source": [
        "import torch\n",
        "import torch.nn as nn"
      ]
    },
    {
      "cell_type": "code",
      "source": [
        "input_size = 5   # 입력 크기\n",
        "hidden_size = 8   # 은닉 상태의 크기"
      ],
      "metadata": {
        "id": "zqjsCLjLDHhm"
      },
      "execution_count": 2,
      "outputs": []
    },
    {
      "cell_type": "code",
      "source": [
        "# 입력 텐서 정의 : (batch_size, time_steps, input_size)\n",
        "inputs = torch.Tensor(1, 10, 5)"
      ],
      "metadata": {
        "id": "Gefph67ODQix"
      },
      "execution_count": 3,
      "outputs": []
    },
    {
      "cell_type": "code",
      "source": [
        "cell = nn.RNN(input_size, hidden_size, batch_first=True)   # batch_first=True : 입력 텐서의 첫번째 차원이 배치 크기읻을 알려줌"
      ],
      "metadata": {
        "id": "IH3Vcm06Dk7T"
      },
      "execution_count": 4,
      "outputs": []
    },
    {
      "cell_type": "code",
      "source": [
        "outputs, _status = cell(inputs)    # RNN 셀은 두 개의 입력을 리턴 : 모든 시점(timesteps)의 은닉 상태들, 마지막 시점(timestep)의 은닉 상태"
      ],
      "metadata": {
        "id": "AMZAFZM6D2YF"
      },
      "execution_count": 5,
      "outputs": []
    },
    {
      "cell_type": "code",
      "source": [
        "print(outputs.shape)   # 모든 time-step의 hidden_state   # 10번의 시점동안 8차원의 은닉상태가 출력되었다는 의미"
      ],
      "metadata": {
        "colab": {
          "base_uri": "https://localhost:8080/"
        },
        "id": "DoClMO4sFgTT",
        "outputId": "f24aa081-a110-4f02-cadc-f92fb7f946d2"
      },
      "execution_count": 6,
      "outputs": [
        {
          "output_type": "stream",
          "name": "stdout",
          "text": [
            "torch.Size([1, 10, 8])\n"
          ]
        }
      ]
    },
    {
      "cell_type": "code",
      "source": [
        "print(_status.shape)   # 최종 time-step의 hidden_state   # 마지막 시점의 은닉 상태는 (1,1,8)의 크기를 가짐"
      ],
      "metadata": {
        "colab": {
          "base_uri": "https://localhost:8080/"
        },
        "id": "xfeHSQE0F3eN",
        "outputId": "28bb6e8e-2ed6-44fd-804b-943b5ad811e2"
      },
      "execution_count": 7,
      "outputs": [
        {
          "output_type": "stream",
          "name": "stdout",
          "text": [
            "torch.Size([1, 1, 8])\n"
          ]
        }
      ]
    },
    {
      "cell_type": "markdown",
      "source": [
        "### 깊은 순환 신경망(Deep Recurrent Neural Network)\n",
        "- RNN도 다수의 은닉층을 가질 수 있다.\n",
        "- 순환신경망에서 은닉층이 1개 더 추가되어 은닉층이 2개인 깊은 순환 신경망 고려\n",
        "- nn.RNN()의 인자인 num_layers에 값을 전달하여 층을 쌓는다."
      ],
      "metadata": {
        "id": "tCizjYZqGbSb"
      }
    },
    {
      "cell_type": "code",
      "source": [
        "inputs = torch.Tensor(1, 10, 5)"
      ],
      "metadata": {
        "id": "ZSt-Ii_zGL0B"
      },
      "execution_count": 8,
      "outputs": []
    },
    {
      "cell_type": "code",
      "source": [
        "cell = nn.RNN(input_size = 5, hidden_size = 8, num_layers = 2, batch_first=True)"
      ],
      "metadata": {
        "id": "eQXpH_WDHP2K"
      },
      "execution_count": 9,
      "outputs": []
    },
    {
      "cell_type": "code",
      "source": [
        "outputs, _status = cell(inputs)"
      ],
      "metadata": {
        "id": "J-fUIMwkH_JC"
      },
      "execution_count": 12,
      "outputs": []
    },
    {
      "cell_type": "code",
      "source": [
        "print(outputs.shape)   # 모든 time-step의 hidden_state"
      ],
      "metadata": {
        "colab": {
          "base_uri": "https://localhost:8080/"
        },
        "id": "mw-ngpaDHYHZ",
        "outputId": "46c6a4db-1ec3-4d79-8c0a-2426f169d7a3"
      },
      "execution_count": 13,
      "outputs": [
        {
          "output_type": "stream",
          "name": "stdout",
          "text": [
            "torch.Size([1, 10, 8])\n"
          ]
        }
      ]
    },
    {
      "cell_type": "code",
      "source": [
        "print(_status.shape)   # (층의 개수, batch_size, hidden_size)"
      ],
      "metadata": {
        "colab": {
          "base_uri": "https://localhost:8080/"
        },
        "id": "HfXLHp6gHn-e",
        "outputId": "925aa70e-36be-48fa-ea93-0b7e36c9d21b"
      },
      "execution_count": 14,
      "outputs": [
        {
          "output_type": "stream",
          "name": "stdout",
          "text": [
            "torch.Size([2, 1, 8])\n"
          ]
        }
      ]
    },
    {
      "cell_type": "markdown",
      "source": [
        "### 양방향 순환 신경망 (Bidirectional RNN)\n",
        "- 양방향 순환 신경망은 시점 t에서의 출력값을 예측할 때 **이전 시점의 데이터**뿐만 아니라, **이후 데이터**로도 예측할 수 있다는 아이디어에 기반\n",
        "- 양방향 RNN은 하나의 출력값을 예측하기 위해 기본적으로 **두 개의 메모리 셀**을 사용 \n",
        "\n",
        "1) 앞 시점의 은닉 상태(Forward States)\n",
        "\n",
        "2) 뒤 시점의 은닉 상태(Backward States)\n",
        "\n",
        "- 양방향 순환 신경망을 파이토치로 구현할 때는 nn.RNN()의 인자인 bidirectional=True로 설정"
      ],
      "metadata": {
        "id": "GW0U1FtVIKYc"
      }
    },
    {
      "cell_type": "code",
      "source": [
        "input = torch.Tensor(1, 10, 5)"
      ],
      "metadata": {
        "id": "w2Gd2F2yH5Gz"
      },
      "execution_count": 15,
      "outputs": []
    },
    {
      "cell_type": "code",
      "source": [
        "cell = nn.RNN(input_size =5, hidden_size=8, num_layers = 2, batch_first=True, bidirectional=True)"
      ],
      "metadata": {
        "id": "oR5m7YltY0ZP"
      },
      "execution_count": 16,
      "outputs": []
    },
    {
      "cell_type": "code",
      "source": [
        "outputs,_status = cell(inputs)"
      ],
      "metadata": {
        "id": "X2PbEoIwZF_v"
      },
      "execution_count": 17,
      "outputs": []
    },
    {
      "cell_type": "code",
      "source": [
        "print(outputs.shape)   # (배치 크기, 시퀀스 길이, 은닉 상태의 크기 x 2 )"
      ],
      "metadata": {
        "colab": {
          "base_uri": "https://localhost:8080/"
        },
        "id": "f1omdTnkZIxc",
        "outputId": "da50fdb7-6483-410d-d068-d031a7fc8d29"
      },
      "execution_count": 20,
      "outputs": [
        {
          "output_type": "stream",
          "name": "stdout",
          "text": [
            "torch.Size([1, 10, 16])\n"
          ]
        }
      ]
    },
    {
      "cell_type": "code",
      "source": [
        "print(_status.shape)   # (층의 개수 x 2, 배치 크기, 은닉 상태의 크기)"
      ],
      "metadata": {
        "colab": {
          "base_uri": "https://localhost:8080/"
        },
        "id": "zYwgG6ztZTUz",
        "outputId": "777b8628-e9ff-4d2e-c53d-2049a6ebd265"
      },
      "execution_count": 21,
      "outputs": [
        {
          "output_type": "stream",
          "name": "stdout",
          "text": [
            "torch.Size([4, 1, 8])\n"
          ]
        }
      ]
    }
  ]
}